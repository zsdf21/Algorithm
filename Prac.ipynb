{
 "cells": [
  {
   "cell_type": "code",
   "execution_count": 96,
   "metadata": {},
   "outputs": [],
   "source": [
    "import time"
   ]
  },
  {
   "cell_type": "code",
   "execution_count": null,
   "metadata": {},
   "outputs": [],
   "source": []
  },
  {
   "attachments": {},
   "cell_type": "markdown",
   "metadata": {},
   "source": [
    "#### Generic Programming: 파라미터 타입이 나중 지정되어 재활용성을 높이는 스타일"
   ]
  },
  {
   "cell_type": "code",
   "execution_count": 15,
   "metadata": {},
   "outputs": [
    {
     "data": {
      "text/plain": [
       "False"
      ]
     },
     "execution_count": 15,
     "metadata": {},
     "output_type": "execute_result"
    }
   ],
   "source": [
    "def are_equal(a, b):\n",
    "    return a == b\n",
    "\n",
    "are_equal(10, 9.0)"
   ]
  },
  {
   "cell_type": "code",
   "execution_count": 16,
   "metadata": {},
   "outputs": [
    {
     "data": {
      "text/plain": [
       "True"
      ]
     },
     "execution_count": 16,
     "metadata": {},
     "output_type": "execute_result"
    }
   ],
   "source": [
    "from typing import TypeVar\n",
    "\n",
    "T = TypeVar('T')\n",
    "U = TypeVar('U')\n",
    "\n",
    "def are_equal(a:T, b:U) -> bool:\n",
    "    return a == b\n",
    "\n",
    "are_equal(10, 10.0)"
   ]
  },
  {
   "cell_type": "markdown",
   "metadata": {},
   "source": [
    "#### 구조체: 메모리의 어느 영역에나 어떤 크기로든 할당할 수 있는 복합 자료형\n",
    "- 파이썬은 별다른 구조체가 없고, 클래스도 데이터 타입을 지정할 수 없어 네임드 튜플을 사용하거나 dataclass를 활용함"
   ]
  },
  {
   "cell_type": "code",
   "execution_count": 34,
   "metadata": {},
   "outputs": [],
   "source": [
    "from dataclasses import dataclass\n",
    "\n",
    "@dataclass\n",
    "class Product():\n",
    "    weight: int = None\n",
    "    price: float = None\n",
    "\n",
    "apple = Product()\n",
    "apple.price = 10\n",
    "# apple.weight = 10"
   ]
  },
  {
   "cell_type": "code",
   "execution_count": 35,
   "metadata": {},
   "outputs": [
    {
     "name": "stdout",
     "output_type": "stream",
     "text": [
      "<class 'NoneType'> <class 'int'>\n"
     ]
    }
   ],
   "source": [
    "print(type(apple.weight), type(apple.price))"
   ]
  },
  {
   "cell_type": "code",
   "execution_count": 39,
   "metadata": {},
   "outputs": [],
   "source": [
    "@dataclass\n",
    "\n",
    "class Rectangle:\n",
    "    width: int\n",
    "    height: int\n",
    "\n",
    "    def area(self):\n",
    "        return self.width * self.height"
   ]
  },
  {
   "cell_type": "code",
   "execution_count": 40,
   "metadata": {},
   "outputs": [
    {
     "name": "stdout",
     "output_type": "stream",
     "text": [
      "12\n"
     ]
    }
   ],
   "source": [
    "rect = Rectangle(3, 4)\n",
    "print(rect.area())"
   ]
  },
  {
   "cell_type": "code",
   "execution_count": 95,
   "metadata": {},
   "outputs": [
    {
     "data": {
      "text/plain": [
       "['o', 'l', 'l', 'e', 'h']"
      ]
     },
     "execution_count": 95,
     "metadata": {},
     "output_type": "execute_result"
    }
   ],
   "source": [
    "# Q2. 문자열을 뒤집는 함수를 작성하라\n",
    "# 입력값은 문자배열, 리턴없이 리스트 내부를 직접 조작하라. \n",
    "input_str = [\"h\", \"e\", \"l\", \"l\", \"o\"]\n",
    "\n",
    "def reverse_str(s):\n",
    "    return s.reverse()\n",
    "\n",
    "# result = reverse_str(input_str)\n",
    "# result\n",
    "# print(reverse_str(input_str))\n",
    "reverse_str(input_str)\n",
    "input_str"
   ]
  },
  {
   "cell_type": "code",
   "execution_count": 41,
   "metadata": {},
   "outputs": [
    {
     "name": "stdout",
     "output_type": "stream",
     "text": [
      "['o', 'l', 'l', 'e', 'h']\n"
     ]
    }
   ],
   "source": [
    "input_str = [\"h\", \"e\", \"l\", \"l\", \"o\"]\n",
    "input_str.reverse()\n",
    "print(input_str)"
   ]
  },
  {
   "cell_type": "code",
   "execution_count": 55,
   "metadata": {},
   "outputs": [
    {
     "name": "stdout",
     "output_type": "stream",
     "text": [
      "None\n"
     ]
    }
   ],
   "source": [
    "input_str = [\"h\", \"e\", \"l\", \"l\", \"o\"]\n",
    "\n",
    "def reverse_str(s):\n",
    "    return s.reverse()\n",
    "\n",
    "print(reverse_str(input_str))"
   ]
  },
  {
   "cell_type": "code",
   "execution_count": 53,
   "metadata": {},
   "outputs": [
    {
     "data": {
      "text/plain": [
       "['o', 'l', 'l', 'e', 'h']"
      ]
     },
     "execution_count": 53,
     "metadata": {},
     "output_type": "execute_result"
    }
   ],
   "source": [
    "reversed_list = input_str[::-1]\n",
    "reversed_list\n",
    "input_str"
   ]
  },
  {
   "cell_type": "markdown",
   "metadata": {},
   "source": [
    "### 리스트 뒤집기"
   ]
  },
  {
   "cell_type": "code",
   "execution_count": null,
   "metadata": {},
   "outputs": [
    {
     "name": "stdout",
     "output_type": "stream",
     "text": [
      "['o', 'l', 'l', 'e', 'h']\n"
     ]
    }
   ],
   "source": [
    "def my_function(x):\n",
    "  return x[::-1]\n",
    "\n",
    "mytxt = my_function([\"h\", \"e\", \"l\", \"l\", \"o\"])\n",
    "\n",
    "print(mytxt)"
   ]
  },
  {
   "cell_type": "code",
   "execution_count": null,
   "metadata": {},
   "outputs": [
    {
     "name": "stdout",
     "output_type": "stream",
     "text": [
      "['o', 'l', 'l', 'e', 'h']\n"
     ]
    }
   ],
   "source": [
    "# reverse 함수\n",
    "def my_function(x):\n",
    "    x.reverse()\n",
    "    return x\n",
    "\n",
    "mytxt = my_function([\"h\", \"e\", \"l\", \"l\", \"o\"])\n",
    "print(mytxt)"
   ]
  },
  {
   "cell_type": "code",
   "execution_count": 66,
   "metadata": {},
   "outputs": [
    {
     "name": "stdout",
     "output_type": "stream",
     "text": [
      "['o', 'l', 'l', 'e', 'h']\n"
     ]
    }
   ],
   "source": [
    "# slicing\n",
    "def stringReverse(myString):\n",
    "\treturn myString[::-1]\n",
    "\n",
    "mytxt = stringReverse([\"h\", \"e\", \"l\", \"l\", \"o\"])\n",
    "print(mytxt)"
   ]
  },
  {
   "cell_type": "markdown",
   "metadata": {},
   "source": [
    "### 문자열 뒤집기"
   ]
  },
  {
   "cell_type": "code",
   "execution_count": 68,
   "metadata": {},
   "outputs": [
    {
     "data": {
      "text/plain": [
       "'olleh'"
      ]
     },
     "execution_count": 68,
     "metadata": {},
     "output_type": "execute_result"
    }
   ],
   "source": [
    "def reversed_string(text):\n",
    "     result = \"\"\n",
    "     index = len(text) - 1\n",
    "     while index >= 0:\n",
    "         result += text[index]\n",
    "         index -= 1\n",
    "     return result\n",
    "\n",
    "reversed_string([\"h\", \"e\", \"l\", \"l\", \"o\"])"
   ]
  },
  {
   "cell_type": "code",
   "execution_count": 108,
   "metadata": {},
   "outputs": [
    {
     "name": "stdout",
     "output_type": "stream",
     "text": [
      "olleh\n",
      "0.0009748935699462891\n"
     ]
    }
   ],
   "source": [
    "# reverse() 함수 사용\n",
    "# reversed()는 반대방향으로 순회하는 iterator를 리턴한다.\n",
    "# join()을 사용하여 리턴된 iterator의 데이터를 하나의 string으로 만들어준다.\n",
    "start_time = time.time()\n",
    "\n",
    "def stringReverse(myString):\n",
    "  return ''.join(reversed(myString))\n",
    "\n",
    "mytxt = stringReverse([\"h\", \"e\", \"l\", \"l\", \"o\"])\n",
    "print(mytxt)\n",
    "\n",
    "end_time = time.time()\t\t# 측정 종료\n",
    "print(end_time - start_time)"
   ]
  },
  {
   "cell_type": "code",
   "execution_count": 109,
   "metadata": {},
   "outputs": [
    {
     "ename": "TypeError",
     "evalue": "reverseString() missing 1 required positional argument: 's'",
     "output_type": "error",
     "traceback": [
      "\u001b[1;31m---------------------------------------------------------------------------\u001b[0m",
      "\u001b[1;31mTypeError\u001b[0m                                 Traceback (most recent call last)",
      "Cell \u001b[1;32mIn[109], line 5\u001b[0m\n\u001b[0;32m      2\u001b[0m     s\u001b[38;5;241m.\u001b[39mreverse()\n\u001b[0;32m      4\u001b[0m a \u001b[38;5;241m=\u001b[39m [\u001b[38;5;124m'\u001b[39m\u001b[38;5;124ma\u001b[39m\u001b[38;5;124m'\u001b[39m, \u001b[38;5;124m'\u001b[39m\u001b[38;5;124mb\u001b[39m\u001b[38;5;124m'\u001b[39m,\u001b[38;5;124m'\u001b[39m\u001b[38;5;124m c\u001b[39m\u001b[38;5;124m'\u001b[39m, \u001b[38;5;124m'\u001b[39m\u001b[38;5;124md\u001b[39m\u001b[38;5;124m'\u001b[39m, \u001b[38;5;124m'\u001b[39m\u001b[38;5;124me\u001b[39m\u001b[38;5;124m'\u001b[39m]\n\u001b[1;32m----> 5\u001b[0m \u001b[43mreverseString\u001b[49m\u001b[43m(\u001b[49m\u001b[43ma\u001b[49m\u001b[43m)\u001b[49m\n",
      "\u001b[1;31mTypeError\u001b[0m: reverseString() missing 1 required positional argument: 's'"
     ]
    }
   ],
   "source": [
    "def reverseString(self, s):\n",
    "    s.reverse()\n",
    "\n",
    "a = ['a', 'b',' c', 'd', 'e']\n",
    "reverseString(a)"
   ]
  },
  {
   "cell_type": "code",
   "execution_count": 10,
   "metadata": {},
   "outputs": [
    {
     "data": {
      "text/plain": [
       "['e', 'd', ' c', 'b', 'a']"
      ]
     },
     "execution_count": 10,
     "metadata": {},
     "output_type": "execute_result"
    }
   ],
   "source": [
    "a = ['a', 'b',' c', 'd', 'e']\n",
    "\n",
    "a = a[::-1]\n",
    "\n",
    "a"
   ]
  },
  {
   "cell_type": "code",
   "execution_count": null,
   "metadata": {},
   "outputs": [],
   "source": []
  }
 ],
 "metadata": {
  "kernelspec": {
   "display_name": "Python 3.8.0 ('base')",
   "language": "python",
   "name": "python3"
  },
  "language_info": {
   "codemirror_mode": {
    "name": "ipython",
    "version": 3
   },
   "file_extension": ".py",
   "mimetype": "text/x-python",
   "name": "python",
   "nbconvert_exporter": "python",
   "pygments_lexer": "ipython3",
   "version": "3.8.0"
  },
  "orig_nbformat": 4,
  "vscode": {
   "interpreter": {
    "hash": "4dc431498b8a8d7aae45044553cfbb4f08894bba525ece82a3bc46ec6a89daf7"
   }
  }
 },
 "nbformat": 4,
 "nbformat_minor": 2
}
